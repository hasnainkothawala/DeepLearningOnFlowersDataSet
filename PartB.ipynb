{
 "cells": [
  {
   "cell_type": "code",
   "execution_count": 2,
   "metadata": {},
   "outputs": [
    {
     "name": "stderr",
     "output_type": "stream",
     "text": [
      "Using TensorFlow backend.\n"
     ]
    }
   ],
   "source": [
    "import numpy as np\n",
    "import pandas as pd\n",
    "import h5py\n",
    "import matplotlib.pyplot as plt\n",
    "import tensorflow as tf\n",
    "from keras.layers import Dense, Dropout,Flatten,Activation\n",
    "from keras.layers import Conv2D, MaxPooling2D, BatchNormalization\n",
    "from keras.optimizers import SGD,Adam,rmsprop\n",
    "from keras.models import Sequential"
   ]
  },
  {
   "cell_type": "code",
   "execution_count": 3,
   "metadata": {},
   "outputs": [
    {
     "name": "stdout",
     "output_type": "stream",
     "text": [
      "2.1.0\n"
     ]
    }
   ],
   "source": [
    "print(tf.__version__)"
   ]
  },
  {
   "cell_type": "code",
   "execution_count": 4,
   "metadata": {},
   "outputs": [],
   "source": [
    "\n",
    "from sklearn.svm import LinearSVC\n",
    "from sklearn.metrics import confusion_matrix, accuracy_score\n",
    "from keras.applications import VGG16,InceptionV3,ResNet50V2\n",
    "from keras.applications import imagenet_utils\n",
    "\n",
    "from sklearn.linear_model import LogisticRegression\n",
    "from sklearn.svm import SVC\n",
    "from sklearn.neighbors import KNeighborsClassifier\n",
    "from sklearn.tree import DecisionTreeClassifier\n",
    "from sklearn.ensemble import RandomForestClassifier,GradientBoostingClassifier\n",
    "from xgboost import XGBClassifier\n",
    "\n",
    "import warnings\n",
    "warnings.filterwarnings(\"ignore\")"
   ]
  },
  {
   "cell_type": "code",
   "execution_count": 5,
   "metadata": {},
   "outputs": [],
   "source": [
    "def loadDataH5():\n",
    "    with h5py.File('data1.h5','r') as hf: \n",
    "        trainX = np.array(hf.get('trainX')) \n",
    "        trainY = np.array(hf.get('trainY')) \n",
    "        valX = np.array(hf.get('valX')) \n",
    "        valY = np.array(hf.get('valY')) \n",
    "        print (trainX.shape,trainY.shape) \n",
    "        print (valX.shape,valY.shape)\n",
    "    return trainX, trainY, valX, valY \n"
   ]
  },
  {
   "cell_type": "code",
   "execution_count": 6,
   "metadata": {
    "collapsed": true
   },
   "outputs": [
    {
     "ename": "OSError",
     "evalue": "Unable to open file (unable to open file: name = 'data1.h5', errno = 2, error message = 'No such file or directory', flags = 0, o_flags = 0)",
     "output_type": "error",
     "traceback": [
      "\u001b[1;31m---------------------------------------------------------------------------\u001b[0m",
      "\u001b[1;31mOSError\u001b[0m                                   Traceback (most recent call last)",
      "\u001b[1;32m<ipython-input-6-3f59012091bc>\u001b[0m in \u001b[0;36m<module>\u001b[1;34m\u001b[0m\n\u001b[1;32m----> 1\u001b[1;33m \u001b[0mtrainX\u001b[0m\u001b[1;33m,\u001b[0m \u001b[0mtrainY\u001b[0m\u001b[1;33m,\u001b[0m \u001b[0mvalX\u001b[0m\u001b[1;33m,\u001b[0m \u001b[0mvalY\u001b[0m \u001b[1;33m=\u001b[0m \u001b[0mloadDataH5\u001b[0m\u001b[1;33m(\u001b[0m\u001b[1;33m)\u001b[0m\u001b[1;33m\u001b[0m\u001b[1;33m\u001b[0m\u001b[0m\n\u001b[0m",
      "\u001b[1;32m<ipython-input-5-e66703577f6e>\u001b[0m in \u001b[0;36mloadDataH5\u001b[1;34m()\u001b[0m\n\u001b[0;32m      1\u001b[0m \u001b[1;32mdef\u001b[0m \u001b[0mloadDataH5\u001b[0m\u001b[1;33m(\u001b[0m\u001b[1;33m)\u001b[0m\u001b[1;33m:\u001b[0m\u001b[1;33m\u001b[0m\u001b[1;33m\u001b[0m\u001b[0m\n\u001b[1;32m----> 2\u001b[1;33m     \u001b[1;32mwith\u001b[0m \u001b[0mh5py\u001b[0m\u001b[1;33m.\u001b[0m\u001b[0mFile\u001b[0m\u001b[1;33m(\u001b[0m\u001b[1;34m'data1.h5'\u001b[0m\u001b[1;33m,\u001b[0m\u001b[1;34m'r'\u001b[0m\u001b[1;33m)\u001b[0m \u001b[1;32mas\u001b[0m \u001b[0mhf\u001b[0m\u001b[1;33m:\u001b[0m\u001b[1;33m\u001b[0m\u001b[1;33m\u001b[0m\u001b[0m\n\u001b[0m\u001b[0;32m      3\u001b[0m         \u001b[0mtrainX\u001b[0m \u001b[1;33m=\u001b[0m \u001b[0mnp\u001b[0m\u001b[1;33m.\u001b[0m\u001b[0marray\u001b[0m\u001b[1;33m(\u001b[0m\u001b[0mhf\u001b[0m\u001b[1;33m.\u001b[0m\u001b[0mget\u001b[0m\u001b[1;33m(\u001b[0m\u001b[1;34m'trainX'\u001b[0m\u001b[1;33m)\u001b[0m\u001b[1;33m)\u001b[0m\u001b[1;33m\u001b[0m\u001b[1;33m\u001b[0m\u001b[0m\n\u001b[0;32m      4\u001b[0m         \u001b[0mtrainY\u001b[0m \u001b[1;33m=\u001b[0m \u001b[0mnp\u001b[0m\u001b[1;33m.\u001b[0m\u001b[0marray\u001b[0m\u001b[1;33m(\u001b[0m\u001b[0mhf\u001b[0m\u001b[1;33m.\u001b[0m\u001b[0mget\u001b[0m\u001b[1;33m(\u001b[0m\u001b[1;34m'trainY'\u001b[0m\u001b[1;33m)\u001b[0m\u001b[1;33m)\u001b[0m\u001b[1;33m\u001b[0m\u001b[1;33m\u001b[0m\u001b[0m\n\u001b[0;32m      5\u001b[0m         \u001b[0mvalX\u001b[0m \u001b[1;33m=\u001b[0m \u001b[0mnp\u001b[0m\u001b[1;33m.\u001b[0m\u001b[0marray\u001b[0m\u001b[1;33m(\u001b[0m\u001b[0mhf\u001b[0m\u001b[1;33m.\u001b[0m\u001b[0mget\u001b[0m\u001b[1;33m(\u001b[0m\u001b[1;34m'valX'\u001b[0m\u001b[1;33m)\u001b[0m\u001b[1;33m)\u001b[0m\u001b[1;33m\u001b[0m\u001b[1;33m\u001b[0m\u001b[0m\n",
      "\u001b[1;32m~\\AppData\\Roaming\\Python\\Python37\\site-packages\\h5py\\_hl\\files.py\u001b[0m in \u001b[0;36m__init__\u001b[1;34m(self, name, mode, driver, libver, userblock_size, swmr, rdcc_nslots, rdcc_nbytes, rdcc_w0, track_order, **kwds)\u001b[0m\n\u001b[0;32m    406\u001b[0m                 fid = make_fid(name, mode, userblock_size,\n\u001b[0;32m    407\u001b[0m                                \u001b[0mfapl\u001b[0m\u001b[1;33m,\u001b[0m \u001b[0mfcpl\u001b[0m\u001b[1;33m=\u001b[0m\u001b[0mmake_fcpl\u001b[0m\u001b[1;33m(\u001b[0m\u001b[0mtrack_order\u001b[0m\u001b[1;33m=\u001b[0m\u001b[0mtrack_order\u001b[0m\u001b[1;33m)\u001b[0m\u001b[1;33m,\u001b[0m\u001b[1;33m\u001b[0m\u001b[1;33m\u001b[0m\u001b[0m\n\u001b[1;32m--> 408\u001b[1;33m                                swmr=swmr)\n\u001b[0m\u001b[0;32m    409\u001b[0m \u001b[1;33m\u001b[0m\u001b[0m\n\u001b[0;32m    410\u001b[0m             \u001b[1;32mif\u001b[0m \u001b[0misinstance\u001b[0m\u001b[1;33m(\u001b[0m\u001b[0mlibver\u001b[0m\u001b[1;33m,\u001b[0m \u001b[0mtuple\u001b[0m\u001b[1;33m)\u001b[0m\u001b[1;33m:\u001b[0m\u001b[1;33m\u001b[0m\u001b[1;33m\u001b[0m\u001b[0m\n",
      "\u001b[1;32m~\\AppData\\Roaming\\Python\\Python37\\site-packages\\h5py\\_hl\\files.py\u001b[0m in \u001b[0;36mmake_fid\u001b[1;34m(name, mode, userblock_size, fapl, fcpl, swmr)\u001b[0m\n\u001b[0;32m    171\u001b[0m         \u001b[1;32mif\u001b[0m \u001b[0mswmr\u001b[0m \u001b[1;32mand\u001b[0m \u001b[0mswmr_support\u001b[0m\u001b[1;33m:\u001b[0m\u001b[1;33m\u001b[0m\u001b[1;33m\u001b[0m\u001b[0m\n\u001b[0;32m    172\u001b[0m             \u001b[0mflags\u001b[0m \u001b[1;33m|=\u001b[0m \u001b[0mh5f\u001b[0m\u001b[1;33m.\u001b[0m\u001b[0mACC_SWMR_READ\u001b[0m\u001b[1;33m\u001b[0m\u001b[1;33m\u001b[0m\u001b[0m\n\u001b[1;32m--> 173\u001b[1;33m         \u001b[0mfid\u001b[0m \u001b[1;33m=\u001b[0m \u001b[0mh5f\u001b[0m\u001b[1;33m.\u001b[0m\u001b[0mopen\u001b[0m\u001b[1;33m(\u001b[0m\u001b[0mname\u001b[0m\u001b[1;33m,\u001b[0m \u001b[0mflags\u001b[0m\u001b[1;33m,\u001b[0m \u001b[0mfapl\u001b[0m\u001b[1;33m=\u001b[0m\u001b[0mfapl\u001b[0m\u001b[1;33m)\u001b[0m\u001b[1;33m\u001b[0m\u001b[1;33m\u001b[0m\u001b[0m\n\u001b[0m\u001b[0;32m    174\u001b[0m     \u001b[1;32melif\u001b[0m \u001b[0mmode\u001b[0m \u001b[1;33m==\u001b[0m \u001b[1;34m'r+'\u001b[0m\u001b[1;33m:\u001b[0m\u001b[1;33m\u001b[0m\u001b[1;33m\u001b[0m\u001b[0m\n\u001b[0;32m    175\u001b[0m         \u001b[0mfid\u001b[0m \u001b[1;33m=\u001b[0m \u001b[0mh5f\u001b[0m\u001b[1;33m.\u001b[0m\u001b[0mopen\u001b[0m\u001b[1;33m(\u001b[0m\u001b[0mname\u001b[0m\u001b[1;33m,\u001b[0m \u001b[0mh5f\u001b[0m\u001b[1;33m.\u001b[0m\u001b[0mACC_RDWR\u001b[0m\u001b[1;33m,\u001b[0m \u001b[0mfapl\u001b[0m\u001b[1;33m=\u001b[0m\u001b[0mfapl\u001b[0m\u001b[1;33m)\u001b[0m\u001b[1;33m\u001b[0m\u001b[1;33m\u001b[0m\u001b[0m\n",
      "\u001b[1;32mh5py\\_objects.pyx\u001b[0m in \u001b[0;36mh5py._objects.with_phil.wrapper\u001b[1;34m()\u001b[0m\n",
      "\u001b[1;32mh5py\\_objects.pyx\u001b[0m in \u001b[0;36mh5py._objects.with_phil.wrapper\u001b[1;34m()\u001b[0m\n",
      "\u001b[1;32mh5py\\h5f.pyx\u001b[0m in \u001b[0;36mh5py.h5f.open\u001b[1;34m()\u001b[0m\n",
      "\u001b[1;31mOSError\u001b[0m: Unable to open file (unable to open file: name = 'data1.h5', errno = 2, error message = 'No such file or directory', flags = 0, o_flags = 0)"
     ]
    }
   ],
   "source": [
    "trainX, trainY, valX, valY = loadDataH5()"
   ]
  },
  {
   "cell_type": "code",
   "execution_count": 7,
   "metadata": {},
   "outputs": [
    {
     "name": "stdout",
     "output_type": "stream",
     "text": [
      "Model: \"vgg16\"\n",
      "_________________________________________________________________\n",
      "Layer (type)                 Output Shape              Param #   \n",
      "=================================================================\n",
      "input_1 (InputLayer)         (None, 128, 128, 3)       0         \n",
      "_________________________________________________________________\n",
      "block1_conv1 (Conv2D)        (None, 128, 128, 64)      1792      \n",
      "_________________________________________________________________\n",
      "block1_conv2 (Conv2D)        (None, 128, 128, 64)      36928     \n",
      "_________________________________________________________________\n",
      "block1_pool (MaxPooling2D)   (None, 64, 64, 64)        0         \n",
      "_________________________________________________________________\n",
      "block2_conv1 (Conv2D)        (None, 64, 64, 128)       73856     \n",
      "_________________________________________________________________\n",
      "block2_conv2 (Conv2D)        (None, 64, 64, 128)       147584    \n",
      "_________________________________________________________________\n",
      "block2_pool (MaxPooling2D)   (None, 32, 32, 128)       0         \n",
      "_________________________________________________________________\n",
      "block3_conv1 (Conv2D)        (None, 32, 32, 256)       295168    \n",
      "_________________________________________________________________\n",
      "block3_conv2 (Conv2D)        (None, 32, 32, 256)       590080    \n",
      "_________________________________________________________________\n",
      "block3_conv3 (Conv2D)        (None, 32, 32, 256)       590080    \n",
      "_________________________________________________________________\n",
      "block3_pool (MaxPooling2D)   (None, 16, 16, 256)       0         \n",
      "_________________________________________________________________\n",
      "block4_conv1 (Conv2D)        (None, 16, 16, 512)       1180160   \n",
      "_________________________________________________________________\n",
      "block4_conv2 (Conv2D)        (None, 16, 16, 512)       2359808   \n",
      "_________________________________________________________________\n",
      "block4_conv3 (Conv2D)        (None, 16, 16, 512)       2359808   \n",
      "_________________________________________________________________\n",
      "block4_pool (MaxPooling2D)   (None, 8, 8, 512)         0         \n",
      "_________________________________________________________________\n",
      "block5_conv1 (Conv2D)        (None, 8, 8, 512)         2359808   \n",
      "_________________________________________________________________\n",
      "block5_conv2 (Conv2D)        (None, 8, 8, 512)         2359808   \n",
      "_________________________________________________________________\n",
      "block5_conv3 (Conv2D)        (None, 8, 8, 512)         2359808   \n",
      "_________________________________________________________________\n",
      "block5_pool (MaxPooling2D)   (None, 4, 4, 512)         0         \n",
      "=================================================================\n",
      "Total params: 14,714,688\n",
      "Trainable params: 14,714,688\n",
      "Non-trainable params: 0\n",
      "_________________________________________________________________\n"
     ]
    }
   ],
   "source": [
    "vgg_model = VGG16( include_top=False, weights='imagenet', input_tensor=None, input_shape=(128, 128,3), classes=17)\n",
    "                    \n",
    "                    \n",
    "                    \n",
    "vgg_model.summary()"
   ]
  },
  {
   "cell_type": "code",
   "execution_count": 8,
   "metadata": {},
   "outputs": [],
   "source": [
    "# vgg_model = ResNet50V2(weights=\"imagenet\", include_top=False, input_shape=trainX.shape[1:])\n",
    "# vgg_model.summary()"
   ]
  },
  {
   "cell_type": "code",
   "execution_count": 8,
   "metadata": {},
   "outputs": [],
   "source": [
    "# vgg_model = InceptionV3( include_top=False, weights='imagenet', input_tensor=None, input_shape=(128, 128,3), classes=17)\n",
    "                    \n",
    "                    \n",
    "                    \n",
    "# vgg_model.summary()"
   ]
  },
  {
   "cell_type": "code",
   "execution_count": 9,
   "metadata": {},
   "outputs": [
    {
     "name": "stdout",
     "output_type": "stream",
     "text": [
      "WARNING:tensorflow:From C:\\Users\\Hasnain\\Anaconda3\\lib\\site-packages\\keras\\backend\\tensorflow_backend.py:422: The name tf.global_variables is deprecated. Please use tf.compat.v1.global_variables instead.\n",
      "\n"
     ]
    },
    {
     "data": {
      "text/plain": [
       "array([[0.        , 0.        , 0.        , ..., 0.        , 0.71764886,\n",
       "        0.        ],\n",
       "       [0.05682029, 0.        , 0.        , ..., 0.        , 0.5494393 ,\n",
       "        0.        ],\n",
       "       [0.6453249 , 0.        , 0.3316909 , ..., 0.        , 1.384217  ,\n",
       "        0.        ],\n",
       "       ...,\n",
       "       [0.3432715 , 0.        , 0.4406392 , ..., 0.        , 0.8401019 ,\n",
       "        0.        ],\n",
       "       [0.        , 0.        , 0.78052413, ..., 0.        , 0.70393276,\n",
       "        0.        ],\n",
       "       [0.80071056, 0.        , 0.7702394 , ..., 0.        , 0.61338323,\n",
       "        0.        ]], dtype=float32)"
      ]
     },
     "execution_count": 9,
     "metadata": {},
     "output_type": "execute_result"
    }
   ],
   "source": [
    "featuresTrain= vgg_model.predict(trainX)\n",
    "featuresTrain= featuresTrain.reshape(featuresTrain.shape[0], -1)\n",
    "featuresVal= vgg_model.predict(valX)\n",
    "featuresVal= featuresVal.reshape(featuresVal.shape[0], -1)\n",
    "featuresVal\n",
    "# print (accuracy_score(featuresVal, valY))"
   ]
  },
  {
   "cell_type": "markdown",
   "metadata": {},
   "source": [
    "# Random Forest "
   ]
  },
  {
   "cell_type": "code",
   "execution_count": 7,
   "metadata": {},
   "outputs": [
    {
     "data": {
      "text/plain": [
       "RandomForestClassifier(bootstrap=True, class_weight=None, criterion='gini',\n",
       "            max_depth=None, max_features='auto', max_leaf_nodes=None,\n",
       "            min_impurity_decrease=0.0, min_impurity_split=None,\n",
       "            min_samples_leaf=1, min_samples_split=2,\n",
       "            min_weight_fraction_leaf=0.0, n_estimators=300, n_jobs=None,\n",
       "            oob_score=False, random_state=None, verbose=0,\n",
       "            warm_start=False)"
      ]
     },
     "execution_count": 7,
     "metadata": {},
     "output_type": "execute_result"
    }
   ],
   "source": [
    "model_RF = RandomForestClassifier(300)\n",
    "model_RF.fit(featuresTrain, trainY)"
   ]
  },
  {
   "cell_type": "code",
   "execution_count": 8,
   "metadata": {},
   "outputs": [
    {
     "name": "stdout",
     "output_type": "stream",
     "text": [
      "0.8235294117647058\n"
     ]
    }
   ],
   "source": [
    "results_RF = model_RF.predict(featuresVal)\n",
    "print (accuracy_score(results_RF, valY))"
   ]
  },
  {
   "cell_type": "code",
   "execution_count": 10,
   "metadata": {},
   "outputs": [
    {
     "name": "stdout",
     "output_type": "stream",
     "text": [
      "\n",
      " Number of correctly identified imgaes:  280 \n",
      "\n",
      "\n",
      " Confusion matrix : \n",
      "\n",
      " [[12  0  0  1  0  0  0  0  1  0  1  1  3  0  0  0  0]\n",
      " [ 0 16  0  0  0  0  0  0  0  0  0  0  0  0  0  0  0]\n",
      " [ 1  0 16  1  0  0  0  2  0  0  0  0  0  0  0  0  0]\n",
      " [ 2  2  0 11  1  1  0  0  0  0  0  0  1  0  0  2  0]\n",
      " [ 1  0  0  2 11  0  0  0  0  0  0  0  1  0  0  0  1]\n",
      " [ 0  0  0  3  0 15  0  0  0  0  0  0  0  0  0  0  0]\n",
      " [ 0  0  0  0  1  0 17  0  0  0  0  0  0  0  0  0  0]\n",
      " [ 0  0  0  1  0  0  0 19  0  0  0  0  0  1  0  0  0]\n",
      " [ 0  0  0  0  0  0  0  0 27  0  0  0  0  0  0  0  0]\n",
      " [ 0  0  0  1  0  1  0  0  0 20  0  0  0  0  0  0  0]\n",
      " [ 2  0  0  0  0  0  0  0  0  0 20  0  1  0  0  0  0]\n",
      " [ 1  0  0  0  0  0  0  0  0  0  0 21  0  0  0  0  1]\n",
      " [ 1  0  0  0  4  0  0  0  1  0  1  0 12  0  1  0  0]\n",
      " [ 0  0  0  0  0  0  0  1  0  0  0  0  0 22  0  0  0]\n",
      " [ 0  1  0  0  0  0  0  0  0  0  0  0  1  0 17  0  0]\n",
      " [ 2  0  0  1  0  3  0  0  0  0  0  0  2  0  1  6  0]\n",
      " [ 0  0  0  1  1  0  0  0  0  0  0  0  0  0  0  0 18]]\n"
     ]
    }
   ],
   "source": [
    "print(\"\\n Number of correctly identified imgaes: \",accuracy_score( results_RF,valY, normalize=False),\"\\n\")\n",
    "print(\"\\n Confusion matrix : \\n\\n\",confusion_matrix(valY, results_RF, labels=range(0,17)))"
   ]
  },
  {
   "cell_type": "markdown",
   "metadata": {},
   "source": [
    "# Logistic Regression"
   ]
  },
  {
   "cell_type": "code",
   "execution_count": 11,
   "metadata": {},
   "outputs": [
    {
     "data": {
      "text/plain": [
       "LogisticRegression(C=1.0, class_weight=None, dual=False, fit_intercept=True,\n",
       "          intercept_scaling=1, max_iter=100, multi_class='warn',\n",
       "          n_jobs=None, penalty='l2', random_state=None, solver='warn',\n",
       "          tol=0.0001, verbose=0, warm_start=False)"
      ]
     },
     "execution_count": 11,
     "metadata": {},
     "output_type": "execute_result"
    }
   ],
   "source": [
    "model_LR= LogisticRegression()\n",
    "model_LR.fit(featuresTrain, trainY)"
   ]
  },
  {
   "cell_type": "code",
   "execution_count": 12,
   "metadata": {},
   "outputs": [
    {
     "name": "stdout",
     "output_type": "stream",
     "text": [
      "0.8735294117647059\n"
     ]
    }
   ],
   "source": [
    "results_LR = model_LR.predict(featuresVal)\n",
    "print (accuracy_score(results_LR, valY))"
   ]
  },
  {
   "cell_type": "code",
   "execution_count": 13,
   "metadata": {},
   "outputs": [
    {
     "name": "stdout",
     "output_type": "stream",
     "text": [
      "\n",
      " Number of correctly identified imgaes:  297 \n",
      "\n",
      "\n",
      " Confusion matrix : \n",
      "\n",
      " [[15  0  0  1  0  0  0  0  0  0  0  1  2  0  0  0  0]\n",
      " [ 0 16  0  0  0  0  0  0  0  0  0  0  0  0  0  0  0]\n",
      " [ 1  0 16  0  0  0  0  2  1  0  0  0  0  0  0  0  0]\n",
      " [ 1  1  0 14  1  1  0  0  1  0  0  0  0  0  0  1  0]\n",
      " [ 0  0  0  0 16  0  0  0  0  0  0  0  0  0  0  0  0]\n",
      " [ 0  0  0  1  0 16  0  0  0  0  0  0  0  0  0  1  0]\n",
      " [ 0  0  0  0  1  0 17  0  0  0  0  0  0  0  0  0  0]\n",
      " [ 0  0  0  1  0  0  0 20  0  0  0  0  0  0  0  0  0]\n",
      " [ 0  1  0  0  0  0  0  0 26  0  0  0  0  0  0  0  0]\n",
      " [ 0  0  0  1  0  0  0  0  0 20  1  0  0  0  0  0  0]\n",
      " [ 1  0  0  0  1  0  0  0  0  0 21  0  0  0  0  0  0]\n",
      " [ 1  0  0  0  1  0  0  0  0  0  0 20  0  0  0  0  1]\n",
      " [ 2  0  0  0  2  0  0  0  0  0  1  0 14  0  1  0  0]\n",
      " [ 0  1  0  0  0  0  0  1  0  0  0  0  0 21  0  0  0]\n",
      " [ 0  0  0  0  1  0  0  0  0  0  0  0  0  0 18  0  0]\n",
      " [ 3  0  0  1  0  0  0  0  0  0  0  0  2  0  0  9  0]\n",
      " [ 0  0  0  1  0  0  0  0  0  0  0  1  0  0  0  0 18]]\n"
     ]
    }
   ],
   "source": [
    "print(\"\\n Number of correctly identified imgaes: \",accuracy_score( results_LR,valY, normalize=False),\"\\n\")\n",
    "print(\"\\n Confusion matrix : \\n\\n\",confusion_matrix(valY, results_LR, labels=range(0,17)))"
   ]
  },
  {
   "cell_type": "markdown",
   "metadata": {},
   "source": [
    "# Linear SVC"
   ]
  },
  {
   "cell_type": "code",
   "execution_count": 14,
   "metadata": {},
   "outputs": [
    {
     "data": {
      "text/plain": [
       "LinearSVC(C=1.0, class_weight=None, dual=True, fit_intercept=True,\n",
       "     intercept_scaling=1, loss='squared_hinge', max_iter=1000,\n",
       "     multi_class='ovr', penalty='l2', random_state=None, tol=0.0001,\n",
       "     verbose=0)"
      ]
     },
     "execution_count": 14,
     "metadata": {},
     "output_type": "execute_result"
    }
   ],
   "source": [
    "model_SVM= LinearSVC()\n",
    "model_SVM.fit(featuresTrain, trainY)"
   ]
  },
  {
   "cell_type": "code",
   "execution_count": 15,
   "metadata": {},
   "outputs": [
    {
     "name": "stdout",
     "output_type": "stream",
     "text": [
      "0.8794117647058823\n"
     ]
    }
   ],
   "source": [
    "\n",
    "results_SVM = model_SVM.predict(featuresVal)\n",
    "\n",
    "print (accuracy_score(results_SVM, valY))"
   ]
  },
  {
   "cell_type": "code",
   "execution_count": 16,
   "metadata": {},
   "outputs": [
    {
     "name": "stdout",
     "output_type": "stream",
     "text": [
      "\n",
      " Number of correctly identified imgaes:  299 \n",
      "\n",
      "\n",
      " Confusion matrix : \n",
      "\n",
      " [[15  0  0  1  0  0  0  0  0  0  0  1  2  0  0  0  0]\n",
      " [ 0 16  0  0  0  0  0  0  0  0  0  0  0  0  0  0  0]\n",
      " [ 1  0 16  0  0  0  0  2  1  0  0  0  0  0  0  0  0]\n",
      " [ 1  1  0 15  0  1  0  0  1  0  0  0  0  0  0  1  0]\n",
      " [ 0  0  0  0 16  0  0  0  0  0  0  0  0  0  0  0  0]\n",
      " [ 0  0  0  1  0 16  0  0  0  0  0  0  0  0  0  1  0]\n",
      " [ 0  0  0  0  1  0 17  0  0  0  0  0  0  0  0  0  0]\n",
      " [ 0  0  0  1  0  0  0 20  0  0  0  0  0  0  0  0  0]\n",
      " [ 0  1  1  0  0  0  0  0 25  0  0  0  0  0  0  0  0]\n",
      " [ 0  0  0  1  0  0  0  0  0 20  1  0  0  0  0  0  0]\n",
      " [ 1  0  0  0  1  0  0  0  0  0 21  0  0  0  0  0  0]\n",
      " [ 1  0  0  0  1  0  0  0  0  0  0 19  0  0  0  0  2]\n",
      " [ 2  0  0  0  1  0  0  0  0  0  0  0 16  0  1  0  0]\n",
      " [ 0  1  0  0  0  0  0  0  0  0  0  0  0 22  0  0  0]\n",
      " [ 0  0  0  0  1  0  0  0  0  0  0  0  0  0 18  0  0]\n",
      " [ 3  0  0  0  0  0  0  0  0  0  0  0  2  0  1  9  0]\n",
      " [ 0  0  0  1  0  0  0  0  0  0  0  1  0  0  0  0 18]]\n"
     ]
    }
   ],
   "source": [
    "print(\"\\n Number of correctly identified imgaes: \",accuracy_score( results_SVM,valY, normalize=False),\"\\n\")\n",
    "print(\"\\n Confusion matrix : \\n\\n\",confusion_matrix(valY, results_SVM, labels=range(0,17)))"
   ]
  },
  {
   "cell_type": "markdown",
   "metadata": {},
   "source": [
    "## KNeighborsClassifier  "
   ]
  },
  {
   "cell_type": "code",
   "execution_count": 17,
   "metadata": {},
   "outputs": [
    {
     "name": "stdout",
     "output_type": "stream",
     "text": [
      "0.6705882352941176\n",
      "\n",
      " Number of correctly identified imgaes:  228 \n",
      "\n",
      "\n",
      " Confusion matrix : \n",
      "\n",
      " [[15  0  0  2  0  0  0  0  0  0  1  1  0  0  0  0  0]\n",
      " [ 0 16  0  0  0  0  0  0  0  0  0  0  0  0  0  0  0]\n",
      " [ 2  0 11  0  0  0  0  7  0  0  0  0  0  0  0  0  0]\n",
      " [ 2  1  0 16  0  1  0  0  0  0  0  0  0  0  0  0  0]\n",
      " [ 3  0  0  3  2  0  0  0  0  1  0  3  2  0  0  0  2]\n",
      " [ 0  0  0  3  0 12  0  0  0  0  0  2  0  0  0  0  1]\n",
      " [ 0  0  0  0  0  0 17  1  0  0  0  0  0  0  0  0  0]\n",
      " [ 0  0  4  1  0  0  0 16  0  0  0  0  0  0  0  0  0]\n",
      " [ 1  0  0  0  0  0  0  0 22  0  1  2  1  0  0  0  0]\n",
      " [ 0  1  0  1  0  0  0  0  0 20  0  0  0  0  0  0  0]\n",
      " [ 5  1  0  4  1  0  0  0  0  1 10  0  0  0  0  0  1]\n",
      " [ 1  0  0  0  0  0  0  0  0  0  0 21  0  0  0  0  1]\n",
      " [ 5  0  0  4  1  0  0  0  0  0  2  2  4  0  0  0  2]\n",
      " [ 0  0  0  0  0  0  0  1  0  0  0  0  0 21  0  0  1]\n",
      " [ 3  2  0  2  1  2  0  1  0  1  1  0  0  0  5  1  0]\n",
      " [ 4  0  0  4  1  1  0  0  0  0  0  2  0  0  0  3  0]\n",
      " [ 0  1  0  1  0  0  0  0  0  0  0  1  0  0  0  0 17]]\n"
     ]
    }
   ],
   "source": [
    "model_KNN = KNeighborsClassifier(algorithm='auto', leaf_size=30, metric='minkowski',\n",
    "           metric_params=None, n_jobs=None, n_neighbors=10, p=2,\n",
    "           weights='uniform')\n",
    "\n",
    "model_KNN.fit(featuresTrain, trainY)\n",
    "\n",
    "results_KNN =model_KNN.predict(featuresVal)\n",
    "\n",
    "print (accuracy_score(results_KNN, valY))\n",
    "\n",
    "print(\"\\n Number of correctly identified imgaes: \",accuracy_score( results_KNN,valY, normalize=False),\"\\n\")\n",
    "print(\"\\n Confusion matrix : \\n\\n\",confusion_matrix(valY, results_KNN, labels=range(0,17)))"
   ]
  },
  {
   "cell_type": "code",
   "execution_count": null,
   "metadata": {
    "scrolled": true
   },
   "outputs": [],
   "source": [
    "\n",
    "\n",
    "# classifiers = {\n",
    "# #     \"LogisiticRegression\": LogisticRegression(solver = \"lbfgs\"),\n",
    "#     \"KNearest\": KNeighborsClassifier(n_neighbors=2)\n",
    "# #     \"Support Vector Classifier\": SVC(gamma = 'scale'),\n",
    "# #     \"DecisionTreeClassifier\": DecisionTreeClassifier(),\n",
    "# #     \"Random Forest\":RandomForestClassifier(n_estimators=1600),\n",
    "# #     \"xGBClassifier\":XGBClassifier(),\n",
    "# #     \"GradientBoostedClassifier\": GradientBoostingClassifier()\n",
    "# }\n",
    "\n",
    "# from sklearn.model_selection import cross_val_score\n",
    "# from sklearn.metrics import recall_score, precision_score, f1_score, accuracy_score\n",
    "\n",
    "\n",
    "# for key, classifier in classifiers.items():\n",
    "#     classifier.fit(featuresTrain, trainY)\n",
    "#     y_pred=classifier.predict(featuresVal)\n",
    "#     training_score = cross_val_score(classifier, featuresTrain, trainY, cv=5)\n",
    "#     print(\"Classifiers: \", classifier.__class__.__name__, \" accuracy score\")\n",
    "# #     print('---' * 45)\n",
    "#     print('-' * 45 + \"Test Performance\"+\"-\"*45)\n",
    "#     print('Accuracy Score: {:.2f} \\n'.format(accuracy_score(valY, y_pred)))\n",
    "#     print(\"\\n Number of correctly identified imgaes: \",accuracy_score( y_pred,valY, normalize=False),\"\\n\")\n",
    "#     print(\"\\n Confusion matrix : \\n\\n\",confusion_matrix(valY, y_pred, labels=range(0,17)))\n",
    "# #     print('---' * 45)\n"
   ]
  },
  {
   "cell_type": "markdown",
   "metadata": {},
   "source": [
    "# PART B-II"
   ]
  },
  {
   "cell_type": "markdown",
   "metadata": {},
   "source": [
    "# Freezing all the layers and adding a new fully connected layer\n"
   ]
  },
  {
   "cell_type": "code",
   "execution_count": 10,
   "metadata": {},
   "outputs": [],
   "source": [
    "def plotting_models(history,model_name):\n",
    "    # Train and Validation Loss/Acc plots\n",
    "    plt.style.use('ggplot')\n",
    "    plt.figure()\n",
    "    plt.plot(np.arange(0, NUM_EPOCHS), history.history['loss'], label=\"train_loss\")\n",
    "    plt.plot(np.arange(0, NUM_EPOCHS), history.history['val_loss'], label=\"val_loss\")\n",
    "    plt.plot(np.arange(0, NUM_EPOCHS), history.history['accuracy'], label=\"train_acc\")\n",
    "    plt.plot(np.arange(0, NUM_EPOCHS), history.history['val_accuracy'], label=\"val_acc\")\n",
    "    plt.title(\"Train/Val: loss and accuracy\")\n",
    "    plt.xlabel(\"Epoch #\")\n",
    "    plt.ylabel(\"Loss/Accuracy\")\n",
    "    plt.legend()\n",
    "    plt.savefig(model_name+\"_loss_acc_curves.png\")"
   ]
  },
  {
   "cell_type": "code",
   "execution_count": 11,
   "metadata": {},
   "outputs": [],
   "source": [
    "vgg_model.trainable = False\n",
    "\n",
    "model = Sequential()\n",
    "model.add(vgg_model)\n",
    "model.add(Flatten())\n",
    "# model.summary()\n",
    "model.add(Dense(512, activation='relu'))\n",
    "model.add(Dropout(0.3))\n",
    "model.add(Dense(256, activation='relu'))\n",
    "model.add(Dropout(0.3))\n",
    "model.add(Dense(17, activation='softmax'))"
   ]
  },
  {
   "cell_type": "code",
   "execution_count": 12,
   "metadata": {},
   "outputs": [
    {
     "name": "stdout",
     "output_type": "stream",
     "text": [
      "Model: \"vgg16\"\n",
      "_________________________________________________________________\n",
      "Layer (type)                 Output Shape              Param #   \n",
      "=================================================================\n",
      "input_1 (InputLayer)         (None, 128, 128, 3)       0         \n",
      "_________________________________________________________________\n",
      "block1_conv1 (Conv2D)        (None, 128, 128, 64)      1792      \n",
      "_________________________________________________________________\n",
      "block1_conv2 (Conv2D)        (None, 128, 128, 64)      36928     \n",
      "_________________________________________________________________\n",
      "block1_pool (MaxPooling2D)   (None, 64, 64, 64)        0         \n",
      "_________________________________________________________________\n",
      "block2_conv1 (Conv2D)        (None, 64, 64, 128)       73856     \n",
      "_________________________________________________________________\n",
      "block2_conv2 (Conv2D)        (None, 64, 64, 128)       147584    \n",
      "_________________________________________________________________\n",
      "block2_pool (MaxPooling2D)   (None, 32, 32, 128)       0         \n",
      "_________________________________________________________________\n",
      "block3_conv1 (Conv2D)        (None, 32, 32, 256)       295168    \n",
      "_________________________________________________________________\n",
      "block3_conv2 (Conv2D)        (None, 32, 32, 256)       590080    \n",
      "_________________________________________________________________\n",
      "block3_conv3 (Conv2D)        (None, 32, 32, 256)       590080    \n",
      "_________________________________________________________________\n",
      "block3_pool (MaxPooling2D)   (None, 16, 16, 256)       0         \n",
      "_________________________________________________________________\n",
      "block4_conv1 (Conv2D)        (None, 16, 16, 512)       1180160   \n",
      "_________________________________________________________________\n",
      "block4_conv2 (Conv2D)        (None, 16, 16, 512)       2359808   \n",
      "_________________________________________________________________\n",
      "block4_conv3 (Conv2D)        (None, 16, 16, 512)       2359808   \n",
      "_________________________________________________________________\n",
      "block4_pool (MaxPooling2D)   (None, 8, 8, 512)         0         \n",
      "_________________________________________________________________\n",
      "block5_conv1 (Conv2D)        (None, 8, 8, 512)         2359808   \n",
      "_________________________________________________________________\n",
      "block5_conv2 (Conv2D)        (None, 8, 8, 512)         2359808   \n",
      "_________________________________________________________________\n",
      "block5_conv3 (Conv2D)        (None, 8, 8, 512)         2359808   \n",
      "_________________________________________________________________\n",
      "block5_pool (MaxPooling2D)   (None, 4, 4, 512)         0         \n",
      "=================================================================\n",
      "Total params: 14,714,688\n",
      "Trainable params: 0\n",
      "Non-trainable params: 14,714,688\n",
      "_________________________________________________________________\n"
     ]
    }
   ],
   "source": [
    "vgg_model.summary()"
   ]
  },
  {
   "cell_type": "code",
   "execution_count": 13,
   "metadata": {
    "scrolled": true
   },
   "outputs": [
    {
     "data": {
      "text/html": [
       "<div>\n",
       "<style scoped>\n",
       "    .dataframe tbody tr th:only-of-type {\n",
       "        vertical-align: middle;\n",
       "    }\n",
       "\n",
       "    .dataframe tbody tr th {\n",
       "        vertical-align: top;\n",
       "    }\n",
       "\n",
       "    .dataframe thead th {\n",
       "        text-align: right;\n",
       "    }\n",
       "</style>\n",
       "<table border=\"1\" class=\"dataframe\">\n",
       "  <thead>\n",
       "    <tr style=\"text-align: right;\">\n",
       "      <th></th>\n",
       "      <th>Layer Type</th>\n",
       "      <th>Layer Name</th>\n",
       "      <th>Layer Trainable</th>\n",
       "    </tr>\n",
       "  </thead>\n",
       "  <tbody>\n",
       "    <tr>\n",
       "      <th>0</th>\n",
       "      <td>&lt;keras.engine.input_layer.InputLayer object at...</td>\n",
       "      <td>input_1</td>\n",
       "      <td>False</td>\n",
       "    </tr>\n",
       "    <tr>\n",
       "      <th>1</th>\n",
       "      <td>&lt;keras.layers.convolutional.Conv2D object at 0...</td>\n",
       "      <td>block1_conv1</td>\n",
       "      <td>True</td>\n",
       "    </tr>\n",
       "    <tr>\n",
       "      <th>2</th>\n",
       "      <td>&lt;keras.layers.convolutional.Conv2D object at 0...</td>\n",
       "      <td>block1_conv2</td>\n",
       "      <td>True</td>\n",
       "    </tr>\n",
       "    <tr>\n",
       "      <th>3</th>\n",
       "      <td>&lt;keras.layers.pooling.MaxPooling2D object at 0...</td>\n",
       "      <td>block1_pool</td>\n",
       "      <td>True</td>\n",
       "    </tr>\n",
       "    <tr>\n",
       "      <th>4</th>\n",
       "      <td>&lt;keras.layers.convolutional.Conv2D object at 0...</td>\n",
       "      <td>block2_conv1</td>\n",
       "      <td>True</td>\n",
       "    </tr>\n",
       "    <tr>\n",
       "      <th>5</th>\n",
       "      <td>&lt;keras.layers.convolutional.Conv2D object at 0...</td>\n",
       "      <td>block2_conv2</td>\n",
       "      <td>True</td>\n",
       "    </tr>\n",
       "    <tr>\n",
       "      <th>6</th>\n",
       "      <td>&lt;keras.layers.pooling.MaxPooling2D object at 0...</td>\n",
       "      <td>block2_pool</td>\n",
       "      <td>True</td>\n",
       "    </tr>\n",
       "    <tr>\n",
       "      <th>7</th>\n",
       "      <td>&lt;keras.layers.convolutional.Conv2D object at 0...</td>\n",
       "      <td>block3_conv1</td>\n",
       "      <td>True</td>\n",
       "    </tr>\n",
       "    <tr>\n",
       "      <th>8</th>\n",
       "      <td>&lt;keras.layers.convolutional.Conv2D object at 0...</td>\n",
       "      <td>block3_conv2</td>\n",
       "      <td>True</td>\n",
       "    </tr>\n",
       "    <tr>\n",
       "      <th>9</th>\n",
       "      <td>&lt;keras.layers.convolutional.Conv2D object at 0...</td>\n",
       "      <td>block3_conv3</td>\n",
       "      <td>True</td>\n",
       "    </tr>\n",
       "    <tr>\n",
       "      <th>10</th>\n",
       "      <td>&lt;keras.layers.pooling.MaxPooling2D object at 0...</td>\n",
       "      <td>block3_pool</td>\n",
       "      <td>True</td>\n",
       "    </tr>\n",
       "    <tr>\n",
       "      <th>11</th>\n",
       "      <td>&lt;keras.layers.convolutional.Conv2D object at 0...</td>\n",
       "      <td>block4_conv1</td>\n",
       "      <td>True</td>\n",
       "    </tr>\n",
       "    <tr>\n",
       "      <th>12</th>\n",
       "      <td>&lt;keras.layers.convolutional.Conv2D object at 0...</td>\n",
       "      <td>block4_conv2</td>\n",
       "      <td>True</td>\n",
       "    </tr>\n",
       "    <tr>\n",
       "      <th>13</th>\n",
       "      <td>&lt;keras.layers.convolutional.Conv2D object at 0...</td>\n",
       "      <td>block4_conv3</td>\n",
       "      <td>True</td>\n",
       "    </tr>\n",
       "    <tr>\n",
       "      <th>14</th>\n",
       "      <td>&lt;keras.layers.pooling.MaxPooling2D object at 0...</td>\n",
       "      <td>block4_pool</td>\n",
       "      <td>True</td>\n",
       "    </tr>\n",
       "    <tr>\n",
       "      <th>15</th>\n",
       "      <td>&lt;keras.layers.convolutional.Conv2D object at 0...</td>\n",
       "      <td>block5_conv1</td>\n",
       "      <td>True</td>\n",
       "    </tr>\n",
       "    <tr>\n",
       "      <th>16</th>\n",
       "      <td>&lt;keras.layers.convolutional.Conv2D object at 0...</td>\n",
       "      <td>block5_conv2</td>\n",
       "      <td>True</td>\n",
       "    </tr>\n",
       "    <tr>\n",
       "      <th>17</th>\n",
       "      <td>&lt;keras.layers.convolutional.Conv2D object at 0...</td>\n",
       "      <td>block5_conv3</td>\n",
       "      <td>True</td>\n",
       "    </tr>\n",
       "    <tr>\n",
       "      <th>18</th>\n",
       "      <td>&lt;keras.layers.pooling.MaxPooling2D object at 0...</td>\n",
       "      <td>block5_pool</td>\n",
       "      <td>True</td>\n",
       "    </tr>\n",
       "  </tbody>\n",
       "</table>\n",
       "</div>"
      ],
      "text/plain": [
       "                                           Layer Type    Layer Name  \\\n",
       "0   <keras.engine.input_layer.InputLayer object at...       input_1   \n",
       "1   <keras.layers.convolutional.Conv2D object at 0...  block1_conv1   \n",
       "2   <keras.layers.convolutional.Conv2D object at 0...  block1_conv2   \n",
       "3   <keras.layers.pooling.MaxPooling2D object at 0...   block1_pool   \n",
       "4   <keras.layers.convolutional.Conv2D object at 0...  block2_conv1   \n",
       "5   <keras.layers.convolutional.Conv2D object at 0...  block2_conv2   \n",
       "6   <keras.layers.pooling.MaxPooling2D object at 0...   block2_pool   \n",
       "7   <keras.layers.convolutional.Conv2D object at 0...  block3_conv1   \n",
       "8   <keras.layers.convolutional.Conv2D object at 0...  block3_conv2   \n",
       "9   <keras.layers.convolutional.Conv2D object at 0...  block3_conv3   \n",
       "10  <keras.layers.pooling.MaxPooling2D object at 0...   block3_pool   \n",
       "11  <keras.layers.convolutional.Conv2D object at 0...  block4_conv1   \n",
       "12  <keras.layers.convolutional.Conv2D object at 0...  block4_conv2   \n",
       "13  <keras.layers.convolutional.Conv2D object at 0...  block4_conv3   \n",
       "14  <keras.layers.pooling.MaxPooling2D object at 0...   block4_pool   \n",
       "15  <keras.layers.convolutional.Conv2D object at 0...  block5_conv1   \n",
       "16  <keras.layers.convolutional.Conv2D object at 0...  block5_conv2   \n",
       "17  <keras.layers.convolutional.Conv2D object at 0...  block5_conv3   \n",
       "18  <keras.layers.pooling.MaxPooling2D object at 0...   block5_pool   \n",
       "\n",
       "    Layer Trainable  \n",
       "0             False  \n",
       "1              True  \n",
       "2              True  \n",
       "3              True  \n",
       "4              True  \n",
       "5              True  \n",
       "6              True  \n",
       "7              True  \n",
       "8              True  \n",
       "9              True  \n",
       "10             True  \n",
       "11             True  \n",
       "12             True  \n",
       "13             True  \n",
       "14             True  \n",
       "15             True  \n",
       "16             True  \n",
       "17             True  \n",
       "18             True  "
      ]
     },
     "execution_count": 13,
     "metadata": {},
     "output_type": "execute_result"
    }
   ],
   "source": [
    "layers = [(layer, layer.name, layer.trainable) for layer in vgg_model.layers]\n",
    "pd.DataFrame(layers, columns=['Layer Type', 'Layer Name', 'Layer Trainable'])  "
   ]
  },
  {
   "cell_type": "code",
   "execution_count": 22,
   "metadata": {},
   "outputs": [],
   "source": [
    "model.compile(loss='sparse_categorical_crossentropy',\n",
    "              optimizer=Adam(lr=0.01),\n",
    "              metrics=['accuracy'])"
   ]
  },
  {
   "cell_type": "code",
   "execution_count": 24,
   "metadata": {
    "scrolled": true
   },
   "outputs": [
    {
     "name": "stdout",
     "output_type": "stream",
     "text": [
      "Train on 1020 samples, validate on 340 samples\n",
      "Epoch 1/30\n",
      "1020/1020 [==============================] - 98s 97ms/step - loss: 2.8033 - accuracy: 0.0882 - val_loss: 2.5011 - val_accuracy: 0.1824\n",
      "Epoch 2/30\n",
      "1020/1020 [==============================] - 107s 105ms/step - loss: 2.4823 - accuracy: 0.2255 - val_loss: 2.1056 - val_accuracy: 0.4500\n",
      "Epoch 3/30\n",
      "1020/1020 [==============================] - 106s 104ms/step - loss: 2.1834 - accuracy: 0.3196 - val_loss: 1.8033 - val_accuracy: 0.4912\n",
      "Epoch 4/30\n",
      "1020/1020 [==============================] - 107s 105ms/step - loss: 1.9301 - accuracy: 0.4029 - val_loss: 1.5218 - val_accuracy: 0.6029\n",
      "Epoch 5/30\n",
      "1020/1020 [==============================] - 103s 101ms/step - loss: 1.7221 - accuracy: 0.4735 - val_loss: 1.2845 - val_accuracy: 0.7000\n",
      "Epoch 6/30\n",
      "1020/1020 [==============================] - 100s 98ms/step - loss: 1.5354 - accuracy: 0.5235 - val_loss: 1.2378 - val_accuracy: 0.6500\n",
      "Epoch 7/30\n",
      "1020/1020 [==============================] - 113s 111ms/step - loss: 1.4324 - accuracy: 0.5520 - val_loss: 1.0553 - val_accuracy: 0.7265\n",
      "Epoch 8/30\n",
      "1020/1020 [==============================] - 114s 112ms/step - loss: 1.2426 - accuracy: 0.6098 - val_loss: 0.8966 - val_accuracy: 0.7853\n",
      "Epoch 9/30\n",
      "1020/1020 [==============================] - 112s 110ms/step - loss: 1.1174 - accuracy: 0.6686 - val_loss: 0.8683 - val_accuracy: 0.7559\n",
      "Epoch 10/30\n",
      "1020/1020 [==============================] - 117s 115ms/step - loss: 1.0440 - accuracy: 0.6824 - val_loss: 0.7956 - val_accuracy: 0.7941\n",
      "Epoch 11/30\n",
      "1020/1020 [==============================] - 110s 108ms/step - loss: 0.9964 - accuracy: 0.6912 - val_loss: 0.8021 - val_accuracy: 0.7676\n",
      "Epoch 12/30\n",
      "1020/1020 [==============================] - 116s 113ms/step - loss: 0.9131 - accuracy: 0.7275 - val_loss: 0.7743 - val_accuracy: 0.7588\n",
      "Epoch 13/30\n",
      "1020/1020 [==============================] - 111s 109ms/step - loss: 0.8658 - accuracy: 0.7353 - val_loss: 0.6746 - val_accuracy: 0.8235\n",
      "Epoch 14/30\n",
      "1020/1020 [==============================] - 117s 115ms/step - loss: 0.7656 - accuracy: 0.7725 - val_loss: 0.6659 - val_accuracy: 0.8118\n",
      "Epoch 15/30\n",
      "1020/1020 [==============================] - 109s 106ms/step - loss: 0.6975 - accuracy: 0.7843 - val_loss: 0.6348 - val_accuracy: 0.8059\n",
      "Epoch 16/30\n",
      "1020/1020 [==============================] - 109s 107ms/step - loss: 0.6462 - accuracy: 0.8137 - val_loss: 0.5684 - val_accuracy: 0.8412\n",
      "Epoch 17/30\n",
      "1020/1020 [==============================] - 104s 102ms/step - loss: 0.6187 - accuracy: 0.8098 - val_loss: 0.5521 - val_accuracy: 0.8412\n",
      "Epoch 18/30\n",
      "1020/1020 [==============================] - 107s 105ms/step - loss: 0.5386 - accuracy: 0.8471 - val_loss: 0.5830 - val_accuracy: 0.8118\n",
      "Epoch 19/30\n",
      "1020/1020 [==============================] - 103s 101ms/step - loss: 0.5189 - accuracy: 0.8304 - val_loss: 0.5716 - val_accuracy: 0.8059\n",
      "Epoch 20/30\n",
      "1020/1020 [==============================] - 105s 102ms/step - loss: 0.4898 - accuracy: 0.8569 - val_loss: 0.5652 - val_accuracy: 0.8235\n",
      "Epoch 21/30\n",
      "1020/1020 [==============================] - 100s 98ms/step - loss: 0.4697 - accuracy: 0.8578 - val_loss: 0.5225 - val_accuracy: 0.8441\n",
      "Epoch 22/30\n",
      "1020/1020 [==============================] - 100s 98ms/step - loss: 0.4433 - accuracy: 0.8735 - val_loss: 0.4848 - val_accuracy: 0.8618\n",
      "Epoch 23/30\n",
      "1020/1020 [==============================] - 102s 100ms/step - loss: 0.4158 - accuracy: 0.8892 - val_loss: 0.4930 - val_accuracy: 0.8647\n",
      "Epoch 24/30\n",
      "1020/1020 [==============================] - 98s 96ms/step - loss: 0.3957 - accuracy: 0.8873 - val_loss: 0.5027 - val_accuracy: 0.8500\n",
      "Epoch 25/30\n",
      "1020/1020 [==============================] - 98s 96ms/step - loss: 0.3835 - accuracy: 0.8902 - val_loss: 0.5427 - val_accuracy: 0.8265\n",
      "Epoch 26/30\n",
      "1020/1020 [==============================] - 113s 111ms/step - loss: 0.3417 - accuracy: 0.9029 - val_loss: 0.4961 - val_accuracy: 0.8588\n",
      "Epoch 27/30\n",
      "1020/1020 [==============================] - 102s 100ms/step - loss: 0.3083 - accuracy: 0.9206 - val_loss: 0.4746 - val_accuracy: 0.8559\n",
      "Epoch 28/30\n",
      "1020/1020 [==============================] - 98s 96ms/step - loss: 0.3349 - accuracy: 0.9098 - val_loss: 0.4626 - val_accuracy: 0.8676\n",
      "Epoch 29/30\n",
      "1020/1020 [==============================] - 100s 98ms/step - loss: 0.2683 - accuracy: 0.9314 - val_loss: 0.4201 - val_accuracy: 0.8618\n",
      "Epoch 30/30\n",
      "1020/1020 [==============================] - 102s 100ms/step - loss: 0.2812 - accuracy: 0.9245 - val_loss: 0.4187 - val_accuracy: 0.8735\n"
     ]
    }
   ],
   "source": [
    "history = model.fit(x=trainX, y=trainY,\n",
    "                            batch_size=32,\n",
    "                            epochs=30,\n",
    "                            validation_data=(valX, valY))"
   ]
  },
  {
   "cell_type": "code",
   "execution_count": 29,
   "metadata": {},
   "outputs": [
    {
     "data": {
      "image/png": "[encoded data removed]",
      "text/plain": [
       "<Figure size 432x288 with 1 Axes>"
      ]
     },
     "metadata": {},
     "output_type": "display_data"
    }
   ],
   "source": [
    "NUM_EPOCHS=30\n",
    "plotting_models(history,model_name=\"VGG16 Shallow freezed\")"
   ]
  },
  {
   "cell_type": "markdown",
   "metadata": {},
   "source": [
    "# Tuning the model by unfreezing block5_conv1 layers"
   ]
  },
  {
   "cell_type": "code",
   "execution_count": 23,
   "metadata": {},
   "outputs": [],
   "source": [
    "vgg_model.trainable = True\n",
    "set_trainable = False\n",
    "for layer in vgg_model.layers:\n",
    "    if layer.name in ['block4_conv1']:\n",
    "            set_trainable = True\n",
    "    if set_trainable:\n",
    "        layer.trainable = True\n",
    "    else:\n",
    "        layer.trainable = False"
   ]
  },
  {
   "cell_type": "code",
   "execution_count": 24,
   "metadata": {
    "scrolled": true
   },
   "outputs": [
    {
     "name": "stdout",
     "output_type": "stream",
     "text": [
      "Model: \"vgg16\"\n",
      "_________________________________________________________________\n",
      "Layer (type)                 Output Shape              Param #   \n",
      "=================================================================\n",
      "input_1 (InputLayer)         (None, 128, 128, 3)       0         \n",
      "_________________________________________________________________\n",
      "block1_conv1 (Conv2D)        (None, 128, 128, 64)      1792      \n",
      "_________________________________________________________________\n",
      "block1_conv2 (Conv2D)        (None, 128, 128, 64)      36928     \n",
      "_________________________________________________________________\n",
      "block1_pool (MaxPooling2D)   (None, 64, 64, 64)        0         \n",
      "_________________________________________________________________\n",
      "block2_conv1 (Conv2D)        (None, 64, 64, 128)       73856     \n",
      "_________________________________________________________________\n",
      "block2_conv2 (Conv2D)        (None, 64, 64, 128)       147584    \n",
      "_________________________________________________________________\n",
      "block2_pool (MaxPooling2D)   (None, 32, 32, 128)       0         \n",
      "_________________________________________________________________\n",
      "block3_conv1 (Conv2D)        (None, 32, 32, 256)       295168    \n",
      "_________________________________________________________________\n",
      "block3_conv2 (Conv2D)        (None, 32, 32, 256)       590080    \n",
      "_________________________________________________________________\n",
      "block3_conv3 (Conv2D)        (None, 32, 32, 256)       590080    \n",
      "_________________________________________________________________\n",
      "block3_pool (MaxPooling2D)   (None, 16, 16, 256)       0         \n",
      "_________________________________________________________________\n",
      "block4_conv1 (Conv2D)        (None, 16, 16, 512)       1180160   \n",
      "_________________________________________________________________\n",
      "block4_conv2 (Conv2D)        (None, 16, 16, 512)       2359808   \n",
      "_________________________________________________________________\n",
      "block4_conv3 (Conv2D)        (None, 16, 16, 512)       2359808   \n",
      "_________________________________________________________________\n",
      "block4_pool (MaxPooling2D)   (None, 8, 8, 512)         0         \n",
      "_________________________________________________________________\n",
      "block5_conv1 (Conv2D)        (None, 8, 8, 512)         2359808   \n",
      "_________________________________________________________________\n",
      "block5_conv2 (Conv2D)        (None, 8, 8, 512)         2359808   \n",
      "_________________________________________________________________\n",
      "block5_conv3 (Conv2D)        (None, 8, 8, 512)         2359808   \n",
      "_________________________________________________________________\n",
      "block5_pool (MaxPooling2D)   (None, 4, 4, 512)         0         \n",
      "=================================================================\n",
      "Total params: 14,714,688\n",
      "Trainable params: 12,979,200\n",
      "Non-trainable params: 1,735,488\n",
      "_________________________________________________________________\n"
     ]
    }
   ],
   "source": [
    "vgg_model.summary()"
   ]
  },
  {
   "cell_type": "code",
   "execution_count": 25,
   "metadata": {
    "scrolled": true
   },
   "outputs": [
    {
     "data": {
      "text/html": [
       "<div>\n",
       "<style scoped>\n",
       "    .dataframe tbody tr th:only-of-type {\n",
       "        vertical-align: middle;\n",
       "    }\n",
       "\n",
       "    .dataframe tbody tr th {\n",
       "        vertical-align: top;\n",
       "    }\n",
       "\n",
       "    .dataframe thead th {\n",
       "        text-align: right;\n",
       "    }\n",
       "</style>\n",
       "<table border=\"1\" class=\"dataframe\">\n",
       "  <thead>\n",
       "    <tr style=\"text-align: right;\">\n",
       "      <th></th>\n",
       "      <th>Layer Type</th>\n",
       "      <th>Layer Name</th>\n",
       "      <th>Layer Trainable</th>\n",
       "    </tr>\n",
       "  </thead>\n",
       "  <tbody>\n",
       "    <tr>\n",
       "      <th>0</th>\n",
       "      <td>&lt;keras.engine.input_layer.InputLayer object at...</td>\n",
       "      <td>input_1</td>\n",
       "      <td>False</td>\n",
       "    </tr>\n",
       "    <tr>\n",
       "      <th>1</th>\n",
       "      <td>&lt;keras.layers.convolutional.Conv2D object at 0...</td>\n",
       "      <td>block1_conv1</td>\n",
       "      <td>False</td>\n",
       "    </tr>\n",
       "    <tr>\n",
       "      <th>2</th>\n",
       "      <td>&lt;keras.layers.convolutional.Conv2D object at 0...</td>\n",
       "      <td>block1_conv2</td>\n",
       "      <td>False</td>\n",
       "    </tr>\n",
       "    <tr>\n",
       "      <th>3</th>\n",
       "      <td>&lt;keras.layers.pooling.MaxPooling2D object at 0...</td>\n",
       "      <td>block1_pool</td>\n",
       "      <td>False</td>\n",
       "    </tr>\n",
       "    <tr>\n",
       "      <th>4</th>\n",
       "      <td>&lt;keras.layers.convolutional.Conv2D object at 0...</td>\n",
       "      <td>block2_conv1</td>\n",
       "      <td>False</td>\n",
       "    </tr>\n",
       "    <tr>\n",
       "      <th>5</th>\n",
       "      <td>&lt;keras.layers.convolutional.Conv2D object at 0...</td>\n",
       "      <td>block2_conv2</td>\n",
       "      <td>False</td>\n",
       "    </tr>\n",
       "    <tr>\n",
       "      <th>6</th>\n",
       "      <td>&lt;keras.layers.pooling.MaxPooling2D object at 0...</td>\n",
       "      <td>block2_pool</td>\n",
       "      <td>False</td>\n",
       "    </tr>\n",
       "    <tr>\n",
       "      <th>7</th>\n",
       "      <td>&lt;keras.layers.convolutional.Conv2D object at 0...</td>\n",
       "      <td>block3_conv1</td>\n",
       "      <td>False</td>\n",
       "    </tr>\n",
       "    <tr>\n",
       "      <th>8</th>\n",
       "      <td>&lt;keras.layers.convolutional.Conv2D object at 0...</td>\n",
       "      <td>block3_conv2</td>\n",
       "      <td>False</td>\n",
       "    </tr>\n",
       "    <tr>\n",
       "      <th>9</th>\n",
       "      <td>&lt;keras.layers.convolutional.Conv2D object at 0...</td>\n",
       "      <td>block3_conv3</td>\n",
       "      <td>False</td>\n",
       "    </tr>\n",
       "    <tr>\n",
       "      <th>10</th>\n",
       "      <td>&lt;keras.layers.pooling.MaxPooling2D object at 0...</td>\n",
       "      <td>block3_pool</td>\n",
       "      <td>False</td>\n",
       "    </tr>\n",
       "    <tr>\n",
       "      <th>11</th>\n",
       "      <td>&lt;keras.layers.convolutional.Conv2D object at 0...</td>\n",
       "      <td>block4_conv1</td>\n",
       "      <td>True</td>\n",
       "    </tr>\n",
       "    <tr>\n",
       "      <th>12</th>\n",
       "      <td>&lt;keras.layers.convolutional.Conv2D object at 0...</td>\n",
       "      <td>block4_conv2</td>\n",
       "      <td>True</td>\n",
       "    </tr>\n",
       "    <tr>\n",
       "      <th>13</th>\n",
       "      <td>&lt;keras.layers.convolutional.Conv2D object at 0...</td>\n",
       "      <td>block4_conv3</td>\n",
       "      <td>True</td>\n",
       "    </tr>\n",
       "    <tr>\n",
       "      <th>14</th>\n",
       "      <td>&lt;keras.layers.pooling.MaxPooling2D object at 0...</td>\n",
       "      <td>block4_pool</td>\n",
       "      <td>True</td>\n",
       "    </tr>\n",
       "    <tr>\n",
       "      <th>15</th>\n",
       "      <td>&lt;keras.layers.convolutional.Conv2D object at 0...</td>\n",
       "      <td>block5_conv1</td>\n",
       "      <td>True</td>\n",
       "    </tr>\n",
       "    <tr>\n",
       "      <th>16</th>\n",
       "      <td>&lt;keras.layers.convolutional.Conv2D object at 0...</td>\n",
       "      <td>block5_conv2</td>\n",
       "      <td>True</td>\n",
       "    </tr>\n",
       "    <tr>\n",
       "      <th>17</th>\n",
       "      <td>&lt;keras.layers.convolutional.Conv2D object at 0...</td>\n",
       "      <td>block5_conv3</td>\n",
       "      <td>True</td>\n",
       "    </tr>\n",
       "    <tr>\n",
       "      <th>18</th>\n",
       "      <td>&lt;keras.layers.pooling.MaxPooling2D object at 0...</td>\n",
       "      <td>block5_pool</td>\n",
       "      <td>True</td>\n",
       "    </tr>\n",
       "  </tbody>\n",
       "</table>\n",
       "</div>"
      ],
      "text/plain": [
       "                                           Layer Type    Layer Name  \\\n",
       "0   <keras.engine.input_layer.InputLayer object at...       input_1   \n",
       "1   <keras.layers.convolutional.Conv2D object at 0...  block1_conv1   \n",
       "2   <keras.layers.convolutional.Conv2D object at 0...  block1_conv2   \n",
       "3   <keras.layers.pooling.MaxPooling2D object at 0...   block1_pool   \n",
       "4   <keras.layers.convolutional.Conv2D object at 0...  block2_conv1   \n",
       "5   <keras.layers.convolutional.Conv2D object at 0...  block2_conv2   \n",
       "6   <keras.layers.pooling.MaxPooling2D object at 0...   block2_pool   \n",
       "7   <keras.layers.convolutional.Conv2D object at 0...  block3_conv1   \n",
       "8   <keras.layers.convolutional.Conv2D object at 0...  block3_conv2   \n",
       "9   <keras.layers.convolutional.Conv2D object at 0...  block3_conv3   \n",
       "10  <keras.layers.pooling.MaxPooling2D object at 0...   block3_pool   \n",
       "11  <keras.layers.convolutional.Conv2D object at 0...  block4_conv1   \n",
       "12  <keras.layers.convolutional.Conv2D object at 0...  block4_conv2   \n",
       "13  <keras.layers.convolutional.Conv2D object at 0...  block4_conv3   \n",
       "14  <keras.layers.pooling.MaxPooling2D object at 0...   block4_pool   \n",
       "15  <keras.layers.convolutional.Conv2D object at 0...  block5_conv1   \n",
       "16  <keras.layers.convolutional.Conv2D object at 0...  block5_conv2   \n",
       "17  <keras.layers.convolutional.Conv2D object at 0...  block5_conv3   \n",
       "18  <keras.layers.pooling.MaxPooling2D object at 0...   block5_pool   \n",
       "\n",
       "    Layer Trainable  \n",
       "0             False  \n",
       "1             False  \n",
       "2             False  \n",
       "3             False  \n",
       "4             False  \n",
       "5             False  \n",
       "6             False  \n",
       "7             False  \n",
       "8             False  \n",
       "9             False  \n",
       "10            False  \n",
       "11             True  \n",
       "12             True  \n",
       "13             True  \n",
       "14             True  \n",
       "15             True  \n",
       "16             True  \n",
       "17             True  \n",
       "18             True  "
      ]
     },
     "execution_count": 25,
     "metadata": {},
     "output_type": "execute_result"
    }
   ],
   "source": [
    "layers = [(layer, layer.name, layer.trainable) for layer in vgg_model.layers]\n",
    "pd.DataFrame(layers, columns=['Layer Type', 'Layer Name', 'Layer Trainable'])    "
   ]
  },
  {
   "cell_type": "code",
   "execution_count": 28,
   "metadata": {},
   "outputs": [],
   "source": [
    "model = Sequential()\n",
    "model.add(vgg_model)\n",
    "model.add(Flatten())\n",
    "model.add(Dense(512, activation='relu'))\n",
    "model.add(Dropout(0.3))\n",
    "model.add(Dense(256, activation='relu'))\n",
    "model.add(Dropout(0.3))\n",
    "model.add(Dense(17, activation='softmax'))"
   ]
  },
  {
   "cell_type": "code",
   "execution_count": 29,
   "metadata": {},
   "outputs": [],
   "source": [
    "model.compile(loss='sparse_categorical_crossentropy',\n",
    "              optimizer=Adam(lr=0.01),\n",
    "              metrics=['accuracy'])"
   ]
  },
  {
   "cell_type": "code",
   "execution_count": 30,
   "metadata": {},
   "outputs": [
    {
     "name": "stdout",
     "output_type": "stream",
     "text": [
      "(1020, 128, 128, 3) (1020,)\n",
      "(340, 128, 128, 3) (340,)\n"
     ]
    }
   ],
   "source": [
    "trainX, trainY, valX, valY = loadDataH5()"
   ]
  },
  {
   "cell_type": "code",
   "execution_count": 31,
   "metadata": {
    "scrolled": true
   },
   "outputs": [
    {
     "name": "stdout",
     "output_type": "stream",
     "text": [
      "Train on 1020 samples, validate on 340 samples\n",
      "Epoch 1/30\n",
      "1020/1020 [==============================] - 198s 194ms/step - loss: 773375.6214 - accuracy: 0.0549 - val_loss: 3.0563 - val_accuracy: 0.0588\n",
      "Epoch 2/30\n",
      "1020/1020 [==============================] - 198s 194ms/step - loss: 3.7693 - accuracy: 0.0588 - val_loss: 2.8356 - val_accuracy: 0.0618\n",
      "Epoch 3/30\n",
      "1020/1020 [==============================] - 193s 189ms/step - loss: 3.0233 - accuracy: 0.0578 - val_loss: 2.8379 - val_accuracy: 0.0618\n",
      "Epoch 4/30\n",
      "1020/1020 [==============================] - 194s 191ms/step - loss: 2.8795 - accuracy: 0.0510 - val_loss: 2.8389 - val_accuracy: 0.0441\n",
      "Epoch 5/30\n",
      "1020/1020 [==============================] - 196s 192ms/step - loss: 2.9238 - accuracy: 0.0529 - val_loss: 2.8389 - val_accuracy: 0.0441\n",
      "Epoch 6/30\n",
      "1020/1020 [==============================] - 200s 196ms/step - loss: 2.8457 - accuracy: 0.0637 - val_loss: 2.8392 - val_accuracy: 0.0441\n",
      "Epoch 7/30\n",
      "1020/1020 [==============================] - 188s 184ms/step - loss: 2.8344 - accuracy: 0.0637 - val_loss: 2.8401 - val_accuracy: 0.0441\n",
      "Epoch 8/30\n",
      "1020/1020 [==============================] - 198s 194ms/step - loss: 2.8365 - accuracy: 0.0647 - val_loss: 2.8402 - val_accuracy: 0.0441\n",
      "Epoch 9/30\n",
      "1020/1020 [==============================] - 206s 202ms/step - loss: 2.8477 - accuracy: 0.0608 - val_loss: 2.8409 - val_accuracy: 0.0441\n",
      "Epoch 10/30\n",
      "1020/1020 [==============================] - 217s 213ms/step - loss: 2.8512 - accuracy: 0.0667 - val_loss: 2.8397 - val_accuracy: 0.0441\n",
      "Epoch 11/30\n",
      "1020/1020 [==============================] - 214s 210ms/step - loss: 2.8376 - accuracy: 0.0657 - val_loss: 2.8400 - val_accuracy: 0.0441\n",
      "Epoch 12/30\n",
      "1020/1020 [==============================] - 198s 194ms/step - loss: 2.8448 - accuracy: 0.0627 - val_loss: 2.8403 - val_accuracy: 0.0441\n",
      "Epoch 13/30\n",
      "1020/1020 [==============================] - 191s 187ms/step - loss: 2.8335 - accuracy: 0.0647 - val_loss: 2.8420 - val_accuracy: 0.0441\n",
      "Epoch 14/30\n",
      "1020/1020 [==============================] - 187s 183ms/step - loss: 2.8388 - accuracy: 0.0549 - val_loss: 2.8413 - val_accuracy: 0.0441\n",
      "Epoch 15/30\n",
      "1020/1020 [==============================] - 198s 194ms/step - loss: 2.8390 - accuracy: 0.0578 - val_loss: 2.9338 - val_accuracy: 0.0471\n",
      "Epoch 16/30\n",
      "1020/1020 [==============================] - 199s 195ms/step - loss: 3.1048 - accuracy: 0.0578 - val_loss: 2.8422 - val_accuracy: 0.0441\n",
      "Epoch 17/30\n",
      "1020/1020 [==============================] - 204s 200ms/step - loss: 2.8362 - accuracy: 0.0637 - val_loss: 2.8413 - val_accuracy: 0.0441\n",
      "Epoch 18/30\n",
      "1020/1020 [==============================] - 204s 200ms/step - loss: 2.8586 - accuracy: 0.0637 - val_loss: 2.8409 - val_accuracy: 0.0441\n",
      "Epoch 19/30\n",
      "1020/1020 [==============================] - 203s 199ms/step - loss: 2.8486 - accuracy: 0.0608 - val_loss: 2.8419 - val_accuracy: 0.0441\n",
      "Epoch 20/30\n",
      "1020/1020 [==============================] - 202s 198ms/step - loss: 2.8334 - accuracy: 0.0637 - val_loss: 2.8419 - val_accuracy: 0.0441\n",
      "Epoch 21/30\n",
      "1020/1020 [==============================] - 199s 195ms/step - loss: 2.8446 - accuracy: 0.0637 - val_loss: 2.8422 - val_accuracy: 0.0441\n",
      "Epoch 22/30\n",
      "1020/1020 [==============================] - 193s 189ms/step - loss: 2.8340 - accuracy: 0.0637 - val_loss: 2.8422 - val_accuracy: 0.0441\n",
      "Epoch 23/30\n",
      "1020/1020 [==============================] - 194s 191ms/step - loss: 2.8385 - accuracy: 0.0588 - val_loss: 2.8418 - val_accuracy: 0.0441\n",
      "Epoch 24/30\n",
      "1020/1020 [==============================] - 201s 197ms/step - loss: 2.8392 - accuracy: 0.0637 - val_loss: 2.8414 - val_accuracy: 0.0441\n",
      "Epoch 25/30\n",
      "1020/1020 [==============================] - 203s 199ms/step - loss: 2.8418 - accuracy: 0.0569 - val_loss: 2.8416 - val_accuracy: 0.0441\n",
      "Epoch 26/30\n",
      "1020/1020 [==============================] - 194s 190ms/step - loss: 2.8463 - accuracy: 0.0647 - val_loss: 2.8411 - val_accuracy: 0.0441\n",
      "Epoch 27/30\n",
      "1020/1020 [==============================] - 188s 184ms/step - loss: 2.8334 - accuracy: 0.0637 - val_loss: 2.8418 - val_accuracy: 0.0441\n",
      "Epoch 28/30\n",
      "1020/1020 [==============================] - 195s 191ms/step - loss: 2.8367 - accuracy: 0.0520 - val_loss: 2.8412 - val_accuracy: 0.0471\n",
      "Epoch 29/30\n",
      "1020/1020 [==============================] - 200s 196ms/step - loss: 2.8378 - accuracy: 0.0569 - val_loss: 2.8424 - val_accuracy: 0.0471\n",
      "Epoch 30/30\n",
      "1020/1020 [==============================] - 192s 188ms/step - loss: 2.8335 - accuracy: 0.0618 - val_loss: 2.8422 - val_accuracy: 0.0441\n"
     ]
    }
   ],
   "source": [
    "history = model.fit(x=trainX, y=trainY,\n",
    "                            batch_size=32,\n",
    "                            epochs=30,\n",
    "                            validation_data=(valX, valY))"
   ]
  },
  {
   "cell_type": "code",
   "execution_count": 32,
   "metadata": {},
   "outputs": [
    {
     "data": {
      "image/png": "[encoded data removed]",
      "text/plain": [
       "<Figure size 432x288 with 1 Axes>"
      ]
     },
     "metadata": {},
     "output_type": "display_data"
    }
   ],
   "source": [
    "NUM_EPOCHS=30\n",
    "plotting_models(history,model_name=\"Vgg16_Unfreezed_block4_Adam_lr001\")"
   ]
  },
  {
   "cell_type": "markdown",
   "metadata": {},
   "source": [
    "## Tuning the model by unfreezing block4_conv1 layers"
   ]
  },
  {
   "cell_type": "code",
   "execution_count": null,
   "metadata": {},
   "outputs": [],
   "source": []
  }
 ],
 "metadata": {
  "kernelspec": {
   "display_name": "Python 3",
   "language": "python",
   "name": "python3"
  },
  "language_info": {
   "codemirror_mode": {
    "name": "ipython",
    "version": 3
   },
   "file_extension": ".py",
   "mimetype": "text/x-python",
   "name": "python",
   "nbconvert_exporter": "python",
   "pygments_lexer": "ipython3",
   "version": "3.7.5"
  }
 },
 "nbformat": 4,
 "nbformat_minor": 4
}
